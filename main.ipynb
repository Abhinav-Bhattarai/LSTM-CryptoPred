{
 "cells": [
  {
   "cell_type": "code",
   "execution_count": 43,
   "metadata": {},
   "outputs": [
    {
     "data": {
      "text/plain": [
       "<AddedDllDirectory('C:/Program Files/NVIDIA GPU Computing Toolkit/CUDA/v11.2/bin')>"
      ]
     },
     "execution_count": 43,
     "metadata": {},
     "output_type": "execute_result"
    }
   ],
   "source": [
    "import os\n",
    "os.add_dll_directory('C:/Program Files/NVIDIA GPU Computing Toolkit/CUDA/v11.2/bin')"
   ]
  },
  {
   "cell_type": "code",
   "execution_count": 44,
   "metadata": {},
   "outputs": [],
   "source": [
    "import pandas as pd\n",
    "import numpy as np"
   ]
  },
  {
   "cell_type": "code",
   "execution_count": 45,
   "metadata": {},
   "outputs": [
    {
     "data": {
      "text/plain": [
       "'2.7.0'"
      ]
     },
     "execution_count": 45,
     "metadata": {},
     "output_type": "execute_result"
    }
   ],
   "source": [
    "import tensorflow as tf\n",
    "tf.__version__"
   ]
  },
  {
   "cell_type": "code",
   "execution_count": 46,
   "metadata": {},
   "outputs": [],
   "source": [
    "df = pd.read_csv('./BTC-USD.csv', names=['time', 'low', 'high', 'open', 'close', 'volume'])\n",
    "X = df.iloc[:, -2].values"
   ]
  },
  {
   "cell_type": "code",
   "execution_count": 47,
   "metadata": {},
   "outputs": [
    {
     "data": {
      "image/png": "[encoded data removed]",
      "text/plain": [
       "<Figure size 432x288 with 1 Axes>"
      ]
     },
     "metadata": {
      "needs_background": "light"
     },
     "output_type": "display_data"
    }
   ],
   "source": [
    "import matplotlib.pyplot as plt\n",
    "\n",
    "plt.plot(X)\n",
    "plt.show()"
   ]
  },
  {
   "cell_type": "code",
   "execution_count": 48,
   "metadata": {},
   "outputs": [
    {
     "data": {
      "text/plain": [
       "(97724, 1)"
      ]
     },
     "execution_count": 48,
     "metadata": {},
     "output_type": "execute_result"
    }
   ],
   "source": [
    "X = X.reshape(-1, 1)\n",
    "X.shape"
   ]
  },
  {
   "cell_type": "code",
   "execution_count": 49,
   "metadata": {},
   "outputs": [
    {
     "name": "stdout",
     "output_type": "stream",
     "text": [
      "63520\n",
      "34204\n"
     ]
    },
    {
     "data": {
      "text/plain": [
       "(34204, 1)"
      ]
     },
     "execution_count": 49,
     "metadata": {},
     "output_type": "execute_result"
    }
   ],
   "source": [
    "from sklearn.preprocessing import MinMaxScaler\n",
    "from sklearn.model_selection import train_test_split\n",
    "\n",
    "\n",
    "scaler = MinMaxScaler(feature_range=(0, 1))\n",
    "X = scaler.fit_transform(X)\n",
    "train_size = int(len(X) * 0.65)\n",
    "print(train_size)\n",
    "test_size = int(len(X) - train_size)\n",
    "print(test_size)\n",
    "X_train = X[:train_size, ]\n",
    "X_test = X[train_size:, :]\n",
    "time_stamp = 60\n",
    "X_test.shape"
   ]
  },
  {
   "cell_type": "code",
   "execution_count": 50,
   "metadata": {},
   "outputs": [
    {
     "name": "stdout",
     "output_type": "stream",
     "text": [
      "34204 63520\n",
      "34200 63480\n"
     ]
    }
   ],
   "source": [
    "print(test_size, train_size)\n",
    "print(int(test_size / time_stamp) * time_stamp, int(train_size / time_stamp) * time_stamp)"
   ]
  },
  {
   "cell_type": "code",
   "execution_count": 51,
   "metadata": {},
   "outputs": [
    {
     "name": "stdout",
     "output_type": "stream",
     "text": [
      "(1058, 60, 1) (1058, 1)\n",
      "(570, 60, 1) (570, 1)\n"
     ]
    }
   ],
   "source": [
    "def PreprocessRNNSequence(Arr, size):\n",
    "    Sequence = []\n",
    "    TimeStamps = []\n",
    "    Y_true = []\n",
    "    for j in range(0, int(size / time_stamp)):\n",
    "        for i in range(j, j + time_stamp + 1):\n",
    "            if (i == j + time_stamp):\n",
    "                Y_true.append(Arr[i])\n",
    "                Sequence.append(TimeStamps)\n",
    "                TimeStamps = []\n",
    "            else:\n",
    "                TimeStamps.append(Arr[i])     \n",
    "    Sequence = np.array(Sequence)\n",
    "    Y_true = np.array(Y_true).reshape(-1, 1)\n",
    "    return (Sequence, Y_true)\n",
    "\n",
    "X_train, y_train = PreprocessRNNSequence(X_train, train_size)\n",
    "print(X_train.shape, y_train.shape)\n",
    "X_test, y_test = PreprocessRNNSequence(X_test, test_size)\n",
    "print(X_test.shape, y_test.shape)\n",
    "InvTransformed = scaler.inverse_transform(y_test)"
   ]
  },
  {
   "cell_type": "code",
   "execution_count": 52,
   "metadata": {},
   "outputs": [],
   "source": [
    "from tensorflow.keras.layers import Dense, LSTM, Dropout\n",
    "from tensorflow.keras import Sequential\n",
    "from tensorflow.keras.optimizers import Adam\n",
    "\n",
    "rnn = Sequential()\n",
    "rnn.add(LSTM(units=100, return_sequences=True))\n",
    "rnn.add(Dropout(0.2))\n",
    "rnn.add(LSTM(units=100, return_sequences=False))\n",
    "rnn.add(Dense(units=1))\n",
    "opt = Adam(learning_rate=1e-3)\n",
    "rnn.compile(loss='mse', optimizer=opt)"
   ]
  },
  {
   "cell_type": "code",
   "execution_count": 53,
   "metadata": {},
   "outputs": [
    {
     "name": "stdout",
     "output_type": "stream",
     "text": [
      "Epoch 1/20\n",
      "34/34 [==============================] - 6s 22ms/step - loss: 0.0061\n",
      "Epoch 2/20\n",
      "34/34 [==============================] - 1s 17ms/step - loss: 3.2235e-04\n",
      "Epoch 3/20\n",
      "34/34 [==============================] - 1s 18ms/step - loss: 2.2267e-04\n",
      "Epoch 4/20\n",
      "34/34 [==============================] - 1s 17ms/step - loss: 1.5054e-04\n",
      "Epoch 5/20\n",
      "34/34 [==============================] - 1s 17ms/step - loss: 1.1266e-04\n",
      "Epoch 6/20\n",
      "34/34 [==============================] - 1s 17ms/step - loss: 8.4626e-05\n",
      "Epoch 7/20\n",
      "34/34 [==============================] - 1s 17ms/step - loss: 7.4313e-05\n",
      "Epoch 8/20\n",
      "34/34 [==============================] - 1s 17ms/step - loss: 6.4620e-05\n",
      "Epoch 9/20\n",
      "34/34 [==============================] - 1s 17ms/step - loss: 6.6287e-05\n",
      "Epoch 10/20\n",
      "34/34 [==============================] - 1s 17ms/step - loss: 8.3172e-05\n",
      "Epoch 11/20\n",
      "34/34 [==============================] - 1s 18ms/step - loss: 6.7008e-05\n",
      "Epoch 12/20\n",
      "34/34 [==============================] - 1s 17ms/step - loss: 6.6230e-05\n",
      "Epoch 13/20\n",
      "34/34 [==============================] - 1s 17ms/step - loss: 6.7236e-05\n",
      "Epoch 14/20\n",
      "34/34 [==============================] - 1s 19ms/step - loss: 7.2328e-05: 0s - loss: 7.2328e-0\n",
      "Epoch 15/20\n",
      "34/34 [==============================] - 1s 17ms/step - loss: 5.9339e-05\n",
      "Epoch 16/20\n",
      "34/34 [==============================] - 1s 18ms/step - loss: 5.8533e-05\n",
      "Epoch 17/20\n",
      "34/34 [==============================] - 1s 17ms/step - loss: 7.1284e-05\n",
      "Epoch 18/20\n",
      "34/34 [==============================] - 1s 16ms/step - loss: 5.6689e-05\n",
      "Epoch 19/20\n",
      "34/34 [==============================] - 1s 17ms/step - loss: 5.9620e-05: 0s - loss: 5.389\n",
      "Epoch 20/20\n",
      "34/34 [==============================] - 1s 17ms/step - loss: 4.9135e-05\n"
     ]
    }
   ],
   "source": [
    "r = rnn.fit(X_train, y_train, epochs=20)"
   ]
  },
  {
   "cell_type": "code",
   "execution_count": 54,
   "metadata": {},
   "outputs": [
    {
     "data": {
      "image/png": "[encoded data removed]",
      "text/plain": [
       "<Figure size 432x288 with 1 Axes>"
      ]
     },
     "metadata": {
      "needs_background": "light"
     },
     "output_type": "display_data"
    }
   ],
   "source": [
    "plt.plot(r.history['loss'])\n",
    "plt.show()"
   ]
  },
  {
   "cell_type": "code",
   "execution_count": 55,
   "metadata": {},
   "outputs": [
    {
     "data": {
      "text/plain": [
       "<matplotlib.legend.Legend at 0x258e0db0070>"
      ]
     },
     "execution_count": 55,
     "metadata": {},
     "output_type": "execute_result"
    },
    {
     "data": {
      "image/png": "[encoded data removed]",
      "text/plain": [
       "<Figure size 432x288 with 1 Axes>"
      ]
     },
     "metadata": {
      "needs_background": "light"
     },
     "output_type": "display_data"
    }
   ],
   "source": [
    "y_pred = rnn.predict(X_test)\n",
    "y_pred = scaler.inverse_transform(y_pred)\n",
    "\n",
    "plt.plot(y_pred, color='red', label='pred')\n",
    "plt.plot(InvTransformed, color='orange', label='true')\n",
    "plt.legend()"
   ]
  },
  {
   "cell_type": "code",
   "execution_count": null,
   "metadata": {},
   "outputs": [],
   "source": [
    "rnn.save('crypto-pred.h5')"
   ]
  }
 ],
 "metadata": {
  "interpreter": {
   "hash": "3958bfe84be784e717f107eb18e3b7ea1c58a6ec6c8c6e9c0b5087c8da4a429d"
  },
  "kernelspec": {
   "display_name": "Python 3.8.10 64-bit (windows store)",
   "language": "python",
   "name": "python3"
  },
  "language_info": {
   "codemirror_mode": {
    "name": "ipython",
    "version": 3
   },
   "file_extension": ".py",
   "mimetype": "text/x-python",
   "name": "python",
   "nbconvert_exporter": "python",
   "pygments_lexer": "ipython3",
   "version": "3.8.10"
  },
  "orig_nbformat": 4
 },
 "nbformat": 4,
 "nbformat_minor": 2
}
